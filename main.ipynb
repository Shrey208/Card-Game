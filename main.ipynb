{
 "cells": [
  {
   "cell_type": "code",
   "execution_count": 2,
   "metadata": {},
   "outputs": [],
   "source": [
    "import os\n",
    "import requests\n",
    "import pandas as pd\n",
    "from bs4 import BeautifulSoup\n",
    "from IPython.display import display, Image\n",
    "import warnings\n",
    "warnings.filterwarnings('ignore')\n",
    "import ipywidgets as widgets\n",
    "from IPython.display import display, clear_output\n",
    "cnames = []"
   ]
  },
  {
   "cell_type": "code",
   "execution_count": 3,
   "metadata": {},
   "outputs": [],
   "source": [
    "#!jupyter nbextension enable --py widgetsnbextension --sys-prefix\n",
    "#!jupyter serverextension enable voila --sys-prefix"
   ]
  },
  {
   "cell_type": "code",
   "execution_count": 4,
   "metadata": {},
   "outputs": [],
   "source": [
    "glink = 'https://www.google.com/search?site=&tbm=isch&source=hp&biw=1873&bih=990&'\n",
    "usr = { 'User-Agent': 'Mozilla/5.0 (Windows NT 6.1) AppleWebKit/537.36 (KHTML, like Gecko) Chrome/87.0.4280.141 Safari/537.36',\n",
    "    'Accept': 'text/html,application/xhtml+xml,application/xml;q=0.9,*/*;q=0.8',\n",
    "    'Accept-Charset': 'ISO-8859-1,utf-8;q=0.7,*;q=0.3',\n",
    "    'Accept-Encoding': 'none',\n",
    "    'Accept-Language': 'en-US,en;q=0.8',\n",
    "    'Connection': 'keep-alive' }"
   ]
  },
  {
   "cell_type": "code",
   "execution_count": 5,
   "metadata": {},
   "outputs": [],
   "source": [
    "def getimg(data, n) :\n",
    "    imgname = \"p\" + str(n) +\".png\"\n",
    "    if os.path.exists(imgname):\n",
    "        os.remove(imgname)\n",
    "    url = glink + 'q=' + data + \" Comic Version\"\n",
    "    response = requests.get(url, headers = usr)\n",
    "    html = response.text\n",
    "    bs = BeautifulSoup(html, 'html.parser')\n",
    "    results = bs.findAll('img', {'class': 'rg_i Q4LuWd'})\n",
    "    imagelinks = []\n",
    "    for res in results:\n",
    "        try:\n",
    "            link = res['data-src']\n",
    "            imagelinks.append(link)\n",
    "            break\n",
    "        except KeyError:\n",
    "            continue\n",
    "    for i,imagelink in enumerate(imagelinks):\n",
    "        response = requests.get(imagelink)\n",
    "        with open(imgname, 'wb') as file:\n",
    "            file.write(response.content)\n",
    "    img = Image(imgname)\n",
    "    display(img)"
   ]
  },
  {
   "cell_type": "code",
   "execution_count": 6,
   "metadata": {},
   "outputs": [],
   "source": [
    "def getsts(n) :\n",
    "    pname = \"p\" + str(n) + \".csv\"\n",
    "    if os.path.exists(pname):\n",
    "        os.remove(pname)\n",
    "    rand = sdf.sample()\n",
    "    for cname in rand.Name :\n",
    "        cnames.append(cname)\n",
    "        abdf = adf.loc[adf['Name'] == cname]\n",
    "        getimg(cname,n)\n",
    "        abidf = abdf.loc[:,[(abdf[col] == True).all() for col in abdf.columns]]\n",
    "        rand['Abilities'] = \", \".join(abidf)\n",
    "        tr = rand.transpose()\n",
    "        tr.to_csv(\"cs.csv\")\n",
    "    with open(\"cs.csv\",'r') as f:\n",
    "        with open(pname,'w') as f1:\n",
    "            next(f)\n",
    "            for line in f:\n",
    "                f1.write(line)\n",
    "    fn = pd.read_csv(pname)\n",
    "    display(fn)\n",
    "    fn.style.hide_index()\n",
    "    os.remove(\"cs.csv\")"
   ]
  },
  {
   "cell_type": "code",
   "execution_count": 7,
   "metadata": {},
   "outputs": [],
   "source": [
    "def getviz(p3,p4):\n",
    "    if p3.iat[6,0] > p3.iat[6,1]:\n",
    "        ttl = cnames[0] + \" wins against \" + cnames[1]\n",
    "    elif p3.iat[6,0] < p3.iat[6,1]:\n",
    "        ttl = cnames[1] + \" wins against \" + cnames[0]\n",
    "    else :\n",
    "        ttl = cnames[1] + \" and \" + cnames[0] + \"are equal in Powers\"\n",
    "    plot = p4.plot(y = None, kind = 'barh', stacked = True, title = ttl, mark_right = True)\n",
    "    fig = plot.get_figure()\n",
    "    fig.savefig(\"comp.png\")"
   ]
  },
  {
   "cell_type": "code",
   "execution_count": 8,
   "metadata": {},
   "outputs": [],
   "source": [
    "def getdiff(cnames):\n",
    "    if os.path.exists(\"comp.png\") :\n",
    "        os.remove(\"comp.png\")\n",
    "    p1 = sdf.loc[sdf['Name'] == cnames[0]]\n",
    "    p1 = p1.drop(columns=[\"Name\", \"Alignment\"])\n",
    "    p2 = sdf.loc[sdf['Name'] == cnames[1]]\n",
    "    p2 = p2.drop(columns=[\"Name\", \"Alignment\"])\n",
    "    p3 = pd.concat([p1 , p2]).transpose()\n",
    "    p3.rename(columns = {p1.index[0] : cnames[0], p2.index[0] : cnames[1]}, inplace = True)\n",
    "    p4 = p3.div(p3.sum(axis=1), axis=0)\n",
    "    getviz(p3,p4)"
   ]
  },
  {
   "cell_type": "code",
   "execution_count": 9,
   "metadata": {},
   "outputs": [],
   "source": [
    "stats = pd.read_csv(\"stats.csv\")\n",
    "stats = stats[stats['Total'] > 5]\n",
    "abilities = pd.read_csv(\"abilities.csv\")\n",
    "df = stats.merge(abilities, on=['Name'])\n",
    "sdf = stats[stats.Name.isin(df.Name)]\n",
    "adf = abilities[abilities.Name.isin(df.Name)]"
   ]
  },
  {
   "cell_type": "code",
   "execution_count": 10,
   "metadata": {},
   "outputs": [
    {
     "data": {
      "image/png": "[encoded data removed]",
      "text/plain": [
       "<IPython.core.display.Image object>"
      ]
     },
     "metadata": {},
     "output_type": "display_data"
    },
    {
     "data": {
      "text/html": [
       "<div>\n",
       "<style scoped>\n",
       "    .dataframe tbody tr th:only-of-type {\n",
       "        vertical-align: middle;\n",
       "    }\n",
       "\n",
       "    .dataframe tbody tr th {\n",
       "        vertical-align: top;\n",
       "    }\n",
       "\n",
       "    .dataframe thead th {\n",
       "        text-align: right;\n",
       "    }\n",
       "</style>\n",
       "<table border=\"1\" class=\"dataframe\">\n",
       "  <thead>\n",
       "    <tr style=\"text-align: right;\">\n",
       "      <th></th>\n",
       "      <th>Name</th>\n",
       "      <th>Huntress</th>\n",
       "    </tr>\n",
       "  </thead>\n",
       "  <tbody>\n",
       "    <tr>\n",
       "      <th>0</th>\n",
       "      <td>Alignment</td>\n",
       "      <td>good</td>\n",
       "    </tr>\n",
       "    <tr>\n",
       "      <th>1</th>\n",
       "      <td>Intelligence</td>\n",
       "      <td>69</td>\n",
       "    </tr>\n",
       "    <tr>\n",
       "      <th>2</th>\n",
       "      <td>Strength</td>\n",
       "      <td>10</td>\n",
       "    </tr>\n",
       "    <tr>\n",
       "      <th>3</th>\n",
       "      <td>Speed</td>\n",
       "      <td>23</td>\n",
       "    </tr>\n",
       "    <tr>\n",
       "      <th>4</th>\n",
       "      <td>Durability</td>\n",
       "      <td>28</td>\n",
       "    </tr>\n",
       "    <tr>\n",
       "      <th>5</th>\n",
       "      <td>Power</td>\n",
       "      <td>34</td>\n",
       "    </tr>\n",
       "    <tr>\n",
       "      <th>6</th>\n",
       "      <td>Combat</td>\n",
       "      <td>95</td>\n",
       "    </tr>\n",
       "    <tr>\n",
       "      <th>7</th>\n",
       "      <td>Total</td>\n",
       "      <td>259</td>\n",
       "    </tr>\n",
       "    <tr>\n",
       "      <th>8</th>\n",
       "      <td>Abilities</td>\n",
       "      <td>Marksmanship, Peak Human Condition</td>\n",
       "    </tr>\n",
       "  </tbody>\n",
       "</table>\n",
       "</div>"
      ],
      "text/plain": [
       "           Name                            Huntress\n",
       "0     Alignment                                good\n",
       "1  Intelligence                                  69\n",
       "2      Strength                                  10\n",
       "3         Speed                                  23\n",
       "4    Durability                                  28\n",
       "5         Power                                  34\n",
       "6        Combat                                  95\n",
       "7         Total                                 259\n",
       "8     Abilities  Marksmanship, Peak Human Condition"
      ]
     },
     "metadata": {},
     "output_type": "display_data"
    },
    {
     "data": {
      "image/png": "[encoded data removed]",
      "text/plain": [
       "<IPython.core.display.Image object>"
      ]
     },
     "metadata": {},
     "output_type": "display_data"
    },
    {
     "data": {
      "text/html": [
       "<div>\n",
       "<style scoped>\n",
       "    .dataframe tbody tr th:only-of-type {\n",
       "        vertical-align: middle;\n",
       "    }\n",
       "\n",
       "    .dataframe tbody tr th {\n",
       "        vertical-align: top;\n",
       "    }\n",
       "\n",
       "    .dataframe thead th {\n",
       "        text-align: right;\n",
       "    }\n",
       "</style>\n",
       "<table border=\"1\" class=\"dataframe\">\n",
       "  <thead>\n",
       "    <tr style=\"text-align: right;\">\n",
       "      <th></th>\n",
       "      <th>Name</th>\n",
       "      <th>Living Brain</th>\n",
       "    </tr>\n",
       "  </thead>\n",
       "  <tbody>\n",
       "    <tr>\n",
       "      <th>0</th>\n",
       "      <td>Alignment</td>\n",
       "      <td>bad</td>\n",
       "    </tr>\n",
       "    <tr>\n",
       "      <th>1</th>\n",
       "      <td>Intelligence</td>\n",
       "      <td>75</td>\n",
       "    </tr>\n",
       "    <tr>\n",
       "      <th>2</th>\n",
       "      <td>Strength</td>\n",
       "      <td>53</td>\n",
       "    </tr>\n",
       "    <tr>\n",
       "      <th>3</th>\n",
       "      <td>Speed</td>\n",
       "      <td>35</td>\n",
       "    </tr>\n",
       "    <tr>\n",
       "      <th>4</th>\n",
       "      <td>Durability</td>\n",
       "      <td>56</td>\n",
       "    </tr>\n",
       "    <tr>\n",
       "      <th>5</th>\n",
       "      <td>Power</td>\n",
       "      <td>31</td>\n",
       "    </tr>\n",
       "    <tr>\n",
       "      <th>6</th>\n",
       "      <td>Combat</td>\n",
       "      <td>28</td>\n",
       "    </tr>\n",
       "    <tr>\n",
       "      <th>7</th>\n",
       "      <td>Total</td>\n",
       "      <td>278</td>\n",
       "    </tr>\n",
       "    <tr>\n",
       "      <th>8</th>\n",
       "      <td>Abilities</td>\n",
       "      <td>Durability, Flight, Intelligence, Super Strength</td>\n",
       "    </tr>\n",
       "  </tbody>\n",
       "</table>\n",
       "</div>"
      ],
      "text/plain": [
       "           Name                                      Living Brain\n",
       "0     Alignment                                               bad\n",
       "1  Intelligence                                                75\n",
       "2      Strength                                                53\n",
       "3         Speed                                                35\n",
       "4    Durability                                                56\n",
       "5         Power                                                31\n",
       "6        Combat                                                28\n",
       "7         Total                                               278\n",
       "8     Abilities  Durability, Flight, Intelligence, Super Strength"
      ]
     },
     "metadata": {},
     "output_type": "display_data"
    }
   ],
   "source": [
    "# n = int(input(\"Enter no. of Characters : \"))\n",
    "n = 2\n",
    "for i in range(1,n+1):\n",
    "    getsts(i)"
   ]
  },
  {
   "cell_type": "code",
   "execution_count": 11,
   "metadata": {},
   "outputs": [
    {
     "data": {
      "image/png": "[encoded data removed]",
      "text/plain": [
       "<Figure size 432x288 with 1 Axes>"
      ]
     },
     "metadata": {
      "needs_background": "light"
     },
     "output_type": "display_data"
    }
   ],
   "source": [
    "if n == 2:\n",
    "    getdiff(cnames)"
   ]
  }
 ],
 "metadata": {
  "interpreter": {
   "hash": "53b144c10255056ba138318079d6915f61635f604f049884bb1cb292c1bb44d7"
  },
  "kernelspec": {
   "display_name": "Python 3 (ipykernel)",
   "language": "python",
   "name": "python3"
  },
  "language_info": {
   "codemirror_mode": {
    "name": "ipython",
    "version": 3
   },
   "file_extension": ".py",
   "mimetype": "text/x-python",
   "name": "python",
   "nbconvert_exporter": "python",
   "pygments_lexer": "ipython3",
   "version": "3.9.7"
  }
 },
 "nbformat": 4,
 "nbformat_minor": 2
}
